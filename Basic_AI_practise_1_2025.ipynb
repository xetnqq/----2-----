{
  "cells": [
    {
      "cell_type": "markdown",
      "metadata": {
        "id": "UfI7FZudfGwv"
      },
      "source": [
        "# I. NumPy."
      ]
    },
    {
      "cell_type": "markdown",
      "metadata": {
        "id": "fQcvdlwdimQb"
      },
      "source": [
        "**Оцінювання даної роботи буде ураховувати якість Вашого коду та текстових відповідей. При наявності ЛИШЕ коду , робота оцінюватися НЕ БУДЕ.**  \n",
        "\n",
        "**Оформлення текстових відповідей повинно проводитися в текстових комірках ноутбука з використанням синтаксису [LaTeX](https://en.wikibooks.org/wiki/LaTeX/Basics) для оформлення тексту та формул.**\n",
        "\n",
        "**Роботи ідентифіковані як ІДЕНТИЧНІ одразу отримують 0 балів.**\n",
        "\n",
        "**При реалізації завдань потрібно використовувати методи з бібліотеки numpy та pandas.**\n",
        "\n",
        "**Рішення з циклами будуть оцінені в 0 балів.**"
      ]
    },
    {
      "cell_type": "markdown",
      "metadata": {
        "id": "XmA3PWg8fJxn"
      },
      "source": [
        "0. Імпортувати numpy загальноприйнятим способом."
      ]
    },
    {
      "cell_type": "code",
      "execution_count": null,
      "metadata": {
        "id": "JUli5tR8eTXG"
      },
      "outputs": [],
      "source": [
        "import numpy as np"
      ]
    },
    {
      "cell_type": "markdown",
      "metadata": {
        "id": "fppWPwoFjTrl"
      },
      "source": [
        "1. Визначити список з оцінками студента(ки) за семестр. Використовуючи його, створити одновимірний масив numpy."
      ]
    },
    {
      "cell_type": "code",
      "execution_count": 1,
      "metadata": {
        "id": "cuvs9lNAjVoB"
      },
      "outputs": [
        {
          "name": "stdout",
          "output_type": "stream",
          "text": [
            "Одномірний масив оцінок: [85 90 78 92 88 76 95]\n"
          ]
        }
      ],
      "source": [
        "import numpy as np\n",
        "grades = [85, 90, 78, 92, 88, 76, 95]\n",
        "\n",
        "grades_array = np.array(grades)\n",
        "print(\"Одномірний масив оцінок:\", grades_array)"
      ]
    },
    {
      "cell_type": "markdown",
      "metadata": {
        "id": "OGeLtAwcjcMB"
      },
      "source": [
        "2. Визначити список зі списками, де кожен рядок списку формально означає магазин, а кожна колонка - певний продукт (батон, яйця першої категорії, молоко та ковбаса), а елементами на пересічі є ціни на ці продукти відповідно. Використовуючи цей список, створити матрицю (двовимірний масив) numpy."
      ]
    },
    {
      "cell_type": "code",
      "execution_count": 3,
      "metadata": {
        "id": "zJ9kEAv5jcVo"
      },
      "outputs": [
        {
          "name": "stdout",
          "output_type": "stream",
          "text": [
            "Двовимірний масив цін:\n",
            " [[10.5 12.3  8.9 15. ]\n",
            " [11.  12.   9.5 14.8]\n",
            " [10.8 12.5  9.  15.5]]\n"
          ]
        }
      ],
      "source": [
        "import numpy    as np\n",
        "prices = [\n",
        "    [10.5, 12.3, 8.9, 15.0],  # магазин 1\n",
        "    [11.0, 12.0, 9.5, 14.8],  # магазин 2\n",
        "    [10.8, 12.5, 9.0, 15.5]   # магазин 3\n",
        "]\n",
        "\n",
        "prices_matrix = np.array(prices)\n",
        "print(\"Двовимірний масив цін:\\n\", prices_matrix)\n"
      ]
    },
    {
      "cell_type": "markdown",
      "metadata": {
        "id": "wK7wrEw2jcix"
      },
      "source": [
        "3. Отримайте тип даних значень з масивів завдань 2 та 3. Виведіть їх на екран."
      ]
    },
    {
      "cell_type": "code",
      "execution_count": 4,
      "metadata": {
        "id": "uDBL1x6vjcq9"
      },
      "outputs": [
        {
          "name": "stdout",
          "output_type": "stream",
          "text": [
            "Тип даних масиву оцінок: int64\n",
            "Тип даних масиву цін: float64\n"
          ]
        }
      ],
      "source": [
        "\n",
        "print(\"Тип даних масиву завдання 2:\", grades_array.dtype)\n",
        "print(\"Тип даних масиву завдання 3:\", prices_matrix.dtype)\n"
      ]
    },
    {
      "cell_type": "markdown",
      "metadata": {
        "id": "nNhAgsC3jcyp"
      },
      "source": [
        "4. Отримайте форми (кортеж з кількістю рядків та колонок) масивів завдань 2 та 3. Виведіть їх на екран."
      ]
    },
    {
      "cell_type": "code",
      "execution_count": 5,
      "metadata": {
        "id": "Fi5oXTI8jc4-"
      },
      "outputs": [
        {
          "name": "stdout",
          "output_type": "stream",
          "text": [
            "Форма масиву завдання 2: (7,)\n",
            "Форма масиву завдання 3: (3, 4)\n"
          ]
        }
      ],
      "source": [
        "\n",
        "print(\"Форма масиву завдання 2:\", grades_array.shape)\n",
        "print(\"Форма масиву завдання 3:\", prices_matrix.shape)\n"
      ]
    },
    {
      "cell_type": "markdown",
      "metadata": {
        "id": "bpY-N8QZjdW-"
      },
      "source": [
        "5. Створіть одновимірний масив за допомогою спеціальної функції numpy, який би відображав динаміку стабільно зростаючого (з рівними проміжками) прибутку з продажів  за тиждень, де у перший день не було продажів, а в останній день тижня вдалося заробити 1000 грн 50 коп."
      ]
    },
    {
      "cell_type": "code",
      "execution_count": 6,
      "metadata": {
        "id": "r3LcjnUKjdeu"
      },
      "outputs": [
        {
          "name": "stdout",
          "output_type": "stream",
          "text": [
            "Масив зростаючого прибутку за тиждень: [   0.    166.75  333.5   500.25  667.    833.75 1000.5 ]\n"
          ]
        }
      ],
      "source": [
        "profit = np.linspace(0, 1000.5, 7) \n",
        "print(\"Масив зростаючого прибутку за тиждень:\", profit)\n"
      ]
    },
    {
      "cell_type": "markdown",
      "metadata": {
        "id": "zQM0SY9jjebO"
      },
      "source": [
        "6. Створіть два масиви. Використовуючи їх, продемонструйте відмінність вертикального та горизонтального обʼєднання масивів."
      ]
    },
    {
      "cell_type": "code",
      "execution_count": 7,
      "metadata": {
        "id": "8uoi0_lxjeh-"
      },
      "outputs": [
        {
          "name": "stdout",
          "output_type": "stream",
          "text": [
            "Вертикальне об'єднання:\n",
            " [[1 2 3]\n",
            " [4 5 6]]\n",
            "Горизонтальне об'єднання: [1 2 3 4 5 6]\n"
          ]
        }
      ],
      "source": [
        "array1 = np.array([1, 2, 3])\n",
        "array2 = np.array([4, 5, 6])\n",
        "\n",
        "vertical_stack = np.vstack((array1, array2))\n",
        "print(\"Вертикальне об'єднання:\\n\", vertical_stack)\n",
        "\n",
        "horizontal_stack = np.hstack((array1, array2))\n",
        "print(\"Горизонтальне об'єднання:\", horizontal_stack)\n"
      ]
    },
    {
      "cell_type": "markdown",
      "metadata": {
        "id": "Fwh5D1pDm3t7"
      },
      "source": [
        "7. Визначити функцію, яка приймає на вході масив і транспонує його. Скористайтесь методом reshape. І не забудьте почати з docstrings."
      ]
    },
    {
      "cell_type": "code",
      "execution_count": 12,
      "metadata": {
        "id": "FSWZq0mkm31Z"
      },
      "outputs": [
        {
          "name": "stdout",
          "output_type": "stream",
          "text": [
            "Транспонований масив:\n",
            " [[7]\n",
            " [8]\n",
            " [9]]\n"
          ]
        }
      ],
      "source": [
        "def transpose_array(array):\n",
        "    \"\"\"\n",
        "    Функція транспонує вхідний одновимірний масив у вектор-стовпець за допомогою методу reshape.\n",
        "\n",
        "    Parameters:\n",
        "        array (numpy.ndarray): Одновимірний масив для транспонування.\n",
        "                               Наприклад: [1, 2, 3].\n",
        "\n",
        "    Returns:\n",
        "        numpy.ndarray: Транспонований масив у вигляді вектора-стовпця.\n",
        "                       Наприклад:\n",
        "                       [[1],\n",
        "                        [2],\n",
        "                        [3]].\n",
        "    \"\"\"\n",
        "    transposed = array.reshape(-1, 1)  # Перетворює у вектор-стовпець\n",
        "    return transposed\n",
        "\n",
        "example_array = np.array([7, 8, 9])\n",
        "transposed_result = transpose_array(example_array)\n",
        "print(\"Транспонований масив:\\n\", transposed_result)\n"
      ]
    },
    {
      "cell_type": "markdown",
      "metadata": {
        "id": "Nnxk8vqYm379"
      },
      "source": [
        "8. Створіть два масиви. Використовучи ці масиви, продемонструйте 1) операцію по-елементного додавання, 2) операцію по-елементного віднімання, 3) множення масиву на число, 4) операцію по-елементного множення, і 5) матричного множення."
      ]
    },
    {
      "cell_type": "code",
      "execution_count": 9,
      "metadata": {
        "id": "qO1rfvmVm4BI"
      },
      "outputs": [
        {
          "name": "stdout",
          "output_type": "stream",
          "text": [
            "Поелементне додавання: [5 7 9]\n",
            "Поелементне віднімання: [-3 -3 -3]\n",
            "Масив, помножений на 2: [2 4 6]\n",
            "Поелементне множення: [ 4 10 18]\n",
            "Матричне множення: 32\n"
          ]
        }
      ],
      "source": [
        "array_a = np.array([1, 2, 3])\n",
        "array_b = np.array([4, 5, 6])\n",
        "\n",
        "addition = array_a + array_b\n",
        "print(\"Поелементне додавання:\", addition)\n",
        "\n",
        "subtraction = array_a - array_b\n",
        "print(\"Поелементне віднімання:\", subtraction)\n",
        "\n",
        "multiplication_by_scalar = array_a * 2\n",
        "print(\"Масив, помножений на 2:\", multiplication_by_scalar)\n",
        "\n",
        "elementwise_multiplication = array_a * array_b\n",
        "print(\"Поелементне множення:\", elementwise_multiplication)\n",
        "\n",
        "matrix_multiplication = np.dot(array_a, array_b)\n",
        "print(\"Матричне множення:\", matrix_multiplication)\n"
      ]
    },
    {
      "cell_type": "markdown",
      "metadata": {
        "id": "7aGdszTGuMCC"
      },
      "source": [
        "9. Створіть двовимірний масив (матрицю) та розрахуйте: 1) мінімальне число, 2) максимальне число, 3) суму чисел, 4) мінімальні числа для кожного рядка, 5) максимальні числа для кожного стовпчика."
      ]
    },
    {
      "cell_type": "code",
      "execution_count": 13,
      "metadata": {
        "id": "RL_39YdauMKS"
      },
      "outputs": [
        {
          "name": "stdout",
          "output_type": "stream",
          "text": [
            "Мінімальне число: 1\n",
            "Максимальне число: 9\n",
            "Сума чисел: 45\n",
            "Мінімальні числа для кожного рядка: [3 2 1]\n",
            "Максимальні числа для кожного стовпчика: [9 8 7]\n"
          ]
        }
      ],
      "source": [
        "import numpy as np\n",
        "\n",
        "matrix = np.array([[3, 5, 7],\n",
        "                   [2, 8, 6],\n",
        "                   [9, 4, 1]])\n",
        "\n",
        "min_value = matrix.min()\n",
        "\n",
        "max_value = matrix.max()\n",
        "\n",
        "sum_values = matrix.sum()\n",
        "\n",
        "min_per_row = matrix.min(axis=1)\n",
        "\n",
        "max_per_column = matrix.max(axis=0)\n",
        "\n",
        "print(\"Мінімальне число:\", min_value)\n",
        "print(\"Максимальне число:\", max_value)\n",
        "print(\"Сума чисел:\", sum_values)\n",
        "print(\"Мінімальні числа для кожного рядка:\", min_per_row)\n",
        "print(\"Максимальні числа для кожного стовпчика:\", max_per_column)\n"
      ]
    },
    {
      "cell_type": "markdown",
      "metadata": {
        "id": "c_hNdOpjHRFo"
      },
      "source": [
        "10. Створіть матрицю , де деякі елементи повторюються. Знайдіть унікальні значення елементів цієї матриці та їхні частоти."
      ]
    },
    {
      "cell_type": "code",
      "execution_count": 14,
      "metadata": {},
      "outputs": [
        {
          "name": "stdout",
          "output_type": "stream",
          "text": [
            "Унікальні значення: [1 2 3 4]\n",
            "Частоти кожного значення: [3 3 1 2]\n"
          ]
        }
      ],
      "source": [
        "matrix = np.array([[1, 2, 2],\n",
        "                   [3, 1, 4],\n",
        "                   [4, 2, 1]])\n",
        "\n",
        "unique_values, counts = np.unique(matrix, return_counts=True)\n",
        "\n",
        "print(\"Унікальні значення:\", unique_values)\n",
        "print(\"Частоти кожного значення:\", counts)\n"
      ]
    },
    {
      "cell_type": "markdown",
      "metadata": {
        "id": "Usj7tyjnprEV"
      },
      "source": [
        "# II. Importing. Creating DF"
      ]
    },
    {
      "cell_type": "markdown",
      "metadata": {
        "id": "ePGNrYa6pxRY"
      },
      "source": [
        "0. Імпортувати бібліотеку pandas"
      ]
    },
    {
      "cell_type": "code",
      "execution_count": null,
      "metadata": {
        "id": "KIPDNBqQpvkI"
      },
      "outputs": [],
      "source": [
        "import pandas as pd"
      ]
    },
    {
      "cell_type": "markdown",
      "metadata": {
        "id": "8g9-hgi5qWJv"
      },
      "source": [
        "11. Створити тестовий датафрейм зі списку, що містить записи пацієнтів про їхні прізвища, імена, дату народження, масу тіла та наявність медичного страхування. Одне зі значень зробить пустим. Ознайомтесь з типом кожної колонки."
      ]
    },
    {
      "cell_type": "code",
      "execution_count": 18,
      "metadata": {
        "id": "OvA4GvJ5qYb1"
      },
      "outputs": [
        {
          "name": "stdout",
          "output_type": "stream",
          "text": [
            "Датафрейм:\n",
            "     Прізвище    Ім'я Дата народження  Маса тіла  Медичне страхування\n",
            "0    Мокруха   Тарас      1990-03-09       80.0                 True\n",
            "1  Мазафакер   Олена      1985-06-14       65.0                False\n",
            "2     Броукб    Іван      2000-01-22        NaN                 True\n",
            "3      Свага  Едуард      2006-03-09       67.0                 True\n",
            "\n",
            "Типи даних у кожній колонці:\n",
            " Прізвище                object\n",
            "Ім'я                    object\n",
            "Дата народження         object\n",
            "Маса тіла              float64\n",
            "Медичне страхування       bool\n",
            "dtype: object\n"
          ]
        }
      ],
      "source": [
        "import pandas as pd\n",
        "data = {\n",
        "    \"Прізвище\": [\"Мокруха\", \"Мазафакер\", \"Броукб\", \"Свага\"],\n",
        "    \"Ім'я\": [\"Тарас\", \"Олена\", \"Іван\", \"Едуард\"],\n",
        "    \"Дата народження\": [\"1990-03-09\", \"1985-06-14\", \"2000-01-22\", \"2006-03-09\"],\n",
        "    \"Маса тіла\": [80, 65, None, 67], \n",
        "    \"Медичне страхування\": [True, False, True, True],\n",
        "}\n",
        "\n",
        "df = pd.DataFrame(data)\n",
        "\n",
        "print(\"Датафрейм:\\n\", df)\n",
        "print(\"\\nТипи даних у кожній колонці:\\n\", df.dtypes)"
      ]
    },
    {
      "cell_type": "code",
      "execution_count": null,
      "metadata": {
        "id": "9ioPRVvxqcQ7"
      },
      "outputs": [],
      "source": []
    },
    {
      "cell_type": "markdown",
      "metadata": {
        "id": "b1SvVHjjqcv-"
      },
      "source": [
        "# III. Reading from file"
      ]
    },
    {
      "cell_type": "markdown",
      "metadata": {
        "id": "7HhZWLs_qhgq"
      },
      "source": [
        "12. Завантажити файл missile_attacks_daily.csv з [Kaggle](https://www.kaggle.com/datasets/piterfm/massive-missile-attacks-on-ukraine?select=missile_attacks_daily.csv). Ознайомитись з описом датасету. Додати файл до папки поточної сесії colab notebook на панелі ліворуч або на гугл диск (локально до проєкту, якщо працюєте у пайчармі). Зчитати датафрейм з файлу та вивести датафрейм на екран. Зверніть увагу на те, щоб всі колонки відповідали наведеним у описі типам даних."
      ]
    },
    {
      "cell_type": "code",
      "execution_count": null,
      "metadata": {
        "id": "oQcB3kIqqg0h"
      },
      "outputs": [],
      "source": [
        "import pandas as pd\n",
        "\n",
        "file_path = \"missile_attacks_daily.csv\"  # Замініть на фактичний шлях до вашого файлу\n",
        "data = pd.read_csv(file_path)\n",
        "print(\"Дані успішно завантажені:\")\n",
        "print(data)\n"
      ]
    },
    {
      "cell_type": "markdown",
      "metadata": {
        "id": "89zu0WNErzd2"
      },
      "source": [
        "# IV. Data understanding"
      ]
    },
    {
      "cell_type": "markdown",
      "metadata": {
        "id": "LJqrTfHr2d1G"
      },
      "source": [
        "13. Виведіть на екран перші 10 рядків зчитаного датафрейму."
      ]
    },
    {
      "cell_type": "code",
      "execution_count": 3,
      "metadata": {
        "id": "GdVE9WYwr1sD"
      },
      "outputs": [
        {
          "name": "stdout",
          "output_type": "stream",
          "text": [
            "Дані успішно завантажені:\n",
            "            time_start          time_end               model  \\\n",
            "0     2025-01-18 20:00  2025-01-19 09:00      Shahed-136/131   \n",
            "1     2025-01-17 19:00  2025-01-18 08:00      Shahed-136/131   \n",
            "2     2025-01-16 19:00  2025-01-17 09:00      Shahed-136/131   \n",
            "3     2025-01-16 19:00  2025-01-17 09:00    Iskander-M/KN-23   \n",
            "4     2025-01-16 19:00  2025-01-17 09:00          Iskander-M   \n",
            "...                ...               ...                 ...   \n",
            "2039  2022-10-01 12:00  2022-10-01 12:00            Orlan-10   \n",
            "2040        2022-09-30        2022-09-30            Orlan-10   \n",
            "2041  2022-09-29 23:00  2022-09-29 23:59      Shahed-136/131   \n",
            "2042        2022-09-28        2022-09-28                X-59   \n",
            "2043        2022-09-28        2022-09-28  Reconnaissance UAV   \n",
            "\n",
            "                                           launch_place  \\\n",
            "0         Bryansk oblast and Oryol oblast and Millerovo   \n",
            "1     Primorsko-Akhtarsk and Bryansk oblast and Mill...   \n",
            "2     Primorsko-Akhtarsk and Kursk oblast and Bryans...   \n",
            "3                    Bryansk oblast and Voronezh oblast   \n",
            "4                                         Rostov oblast   \n",
            "...                                                 ...   \n",
            "2039                                                NaN   \n",
            "2040                                                NaN   \n",
            "2041                                                NaN   \n",
            "2042                                                NaN   \n",
            "2043                                                NaN   \n",
            "\n",
            "                                             target carrier  launched  \\\n",
            "0                                           Ukraine     NaN      61.0   \n",
            "1                                           Ukraine     NaN      39.0   \n",
            "2                                           Ukraine     NaN      50.0   \n",
            "3                                       Kyiv oblast     NaN       4.0   \n",
            "4                                           Ukraine     NaN       2.0   \n",
            "...                                             ...     ...       ...   \n",
            "2039                                        Ukraine     NaN       1.0   \n",
            "2040                                        Ukraine     NaN       3.0   \n",
            "2041               Odesa oblast and Mykolaiv oblast     NaN       7.0   \n",
            "2042  Dnipropetrovsk oblast and Zaporizhzhia oblast   Su-35       5.0   \n",
            "2043                                        Ukraine     NaN       3.0   \n",
            "\n",
            "      destroyed  not_reach_goal  cross_border_belarus  back_russia  \\\n",
            "0            43            15.0                   NaN          NaN   \n",
            "1            24            14.0                   NaN          NaN   \n",
            "2            33             9.0                   NaN          NaN   \n",
            "3             2             NaN                   NaN          NaN   \n",
            "4             0             NaN                   NaN          NaN   \n",
            "...         ...             ...                   ...          ...   \n",
            "2039          1             NaN                   NaN          NaN   \n",
            "2040          3             NaN                   NaN          NaN   \n",
            "2041          5             NaN                   NaN          NaN   \n",
            "2042          4             NaN                   NaN          NaN   \n",
            "2043          3             NaN                   NaN          NaN   \n",
            "\n",
            "      still_attacking                                  destroyed_details  \\\n",
            "0                 1.0  {'Mykolaiv oblast': NaN,    'Kyiv oblast': NaN...   \n",
            "1                 NaN  {'Kherson oblast': NaN, 'Khmelnytskyi oblast':...   \n",
            "2                 NaN  {'Odesa oblast and Mykolaiv oblast': 7, 'Khmel...   \n",
            "3                 NaN                                                NaN   \n",
            "4                 NaN                                                NaN   \n",
            "...               ...                                                ...   \n",
            "2039              NaN                                                NaN   \n",
            "2040              NaN                                                NaN   \n",
            "2041              NaN                                                NaN   \n",
            "2042              NaN                                                NaN   \n",
            "2043              NaN                                                NaN   \n",
            "\n",
            "     launched_details launch_place_details  \\\n",
            "0                 NaN                  NaN   \n",
            "1                 NaN                  NaN   \n",
            "2                 NaN                  NaN   \n",
            "3                 NaN                  NaN   \n",
            "4                 NaN                  NaN   \n",
            "...               ...                  ...   \n",
            "2039              NaN                  NaN   \n",
            "2040              NaN                  NaN   \n",
            "2041              NaN                  NaN   \n",
            "2042              NaN                  NaN   \n",
            "2043              NaN                  NaN   \n",
            "\n",
            "                                                 source  \n",
            "0     kpszsu/posts/pfbid0meYNAsX4voALE4SXunVpzKTwzrJ...  \n",
            "1     kpszsu/posts/pfbid0Rpzfu7u9ERu4o49Gm12eqSogKvZ...  \n",
            "2     kpszsu/posts/pfbid0Gvye9Wn2gj8RPiiGaTQFGRas9Yg...  \n",
            "3     kpszsu/posts/pfbid0Rpzfu7u9ERu4o49Gm12eqSogKvZ...  \n",
            "4     kpszsu/posts/pfbid0Gvye9Wn2gj8RPiiGaTQFGRas9Yg...  \n",
            "...                                                 ...  \n",
            "2039                           watch/?v=375517448001233  \n",
            "2040  kpszsu/posts/pfbid0nELeXY4BpHrezv54Lk3gWPZJmcC...  \n",
            "2041  kpszsu/posts/pfbid021aK2TqryAuB8gGrDYMTv3R8Xiu...  \n",
            "2042  kpszsu/posts/pfbid02sjn5m7kosAfsm5bSUzpPwbLuH3...  \n",
            "2043  kpszsu/posts/pfbid0grmBx6A5LbQ7PVTkSx7jTDgg4iU...  \n",
            "\n",
            "[2044 rows x 16 columns]\n",
            "Перші 10 рядків даних:\n",
            "         time_start          time_end             model  \\\n",
            "0  2025-01-18 20:00  2025-01-19 09:00    Shahed-136/131   \n",
            "1  2025-01-17 19:00  2025-01-18 08:00    Shahed-136/131   \n",
            "2  2025-01-16 19:00  2025-01-17 09:00    Shahed-136/131   \n",
            "3  2025-01-16 19:00  2025-01-17 09:00  Iskander-M/KN-23   \n",
            "4  2025-01-16 19:00  2025-01-17 09:00        Iskander-M   \n",
            "5  2025-01-15 20:00  2025-01-16 09:00    Shahed-136/131   \n",
            "6  2025-01-15 06:00  2025-01-15 08:00         X-59/X-69   \n",
            "7  2025-01-15 06:00  2025-01-15 08:00         X-22/X-32   \n",
            "8  2025-01-15 06:00  2025-01-15 08:00       X-101/X-555   \n",
            "9  2025-01-15 06:00  2025-01-15 08:00            Kalibr   \n",
            "\n",
            "                                        launch_place       target  carrier  \\\n",
            "0      Bryansk oblast and Oryol oblast and Millerovo      Ukraine      NaN   \n",
            "1  Primorsko-Akhtarsk and Bryansk oblast and Mill...      Ukraine      NaN   \n",
            "2  Primorsko-Akhtarsk and Kursk oblast and Bryans...      Ukraine      NaN   \n",
            "3                 Bryansk oblast and Voronezh oblast  Kyiv oblast      NaN   \n",
            "4                                      Rostov oblast      Ukraine      NaN   \n",
            "5  Primorsko-Akhtarsk and Bryansk oblast and Oryo...      Ukraine      NaN   \n",
            "6                                    Belgorod oblast      Ukraine      NaN   \n",
            "7                                        Tula oblast      Ukraine  Tu-22M3   \n",
            "8                                   Volgograd oblast      Ukraine  Tu-95MS   \n",
            "9                                          Black Sea      Ukraine     Navi   \n",
            "\n",
            "   launched  destroyed  not_reach_goal  cross_border_belarus  back_russia  \\\n",
            "0      61.0         43            15.0                   NaN          NaN   \n",
            "1      39.0         24            14.0                   NaN          NaN   \n",
            "2      50.0         33             9.0                   NaN          NaN   \n",
            "3       4.0          2             NaN                   NaN          NaN   \n",
            "4       2.0          0             NaN                   NaN          NaN   \n",
            "5      55.0         34            18.0                   NaN          NaN   \n",
            "6       4.0          4             NaN                   NaN          NaN   \n",
            "7       7.0          0             NaN                   NaN          NaN   \n",
            "8      27.0         23             NaN                   NaN          NaN   \n",
            "9       4.0          3             NaN                   NaN          NaN   \n",
            "\n",
            "   still_attacking                                  destroyed_details  \\\n",
            "0              1.0  {'Mykolaiv oblast': NaN,    'Kyiv oblast': NaN...   \n",
            "1              NaN  {'Kherson oblast': NaN, 'Khmelnytskyi oblast':...   \n",
            "2              NaN  {'Odesa oblast and Mykolaiv oblast': 7, 'Khmel...   \n",
            "3              NaN                                                NaN   \n",
            "4              NaN                                                NaN   \n",
            "5              NaN  {'Mykolaiv oblast': 5, 'Kyiv oblast': NaN, 'Su...   \n",
            "6              NaN                                                NaN   \n",
            "7              NaN                                                NaN   \n",
            "8              NaN                                       {'west': 20}   \n",
            "9              NaN                                       {'south': 1}   \n",
            "\n",
            "  launched_details launch_place_details  \\\n",
            "0              NaN                  NaN   \n",
            "1              NaN                  NaN   \n",
            "2              NaN                  NaN   \n",
            "3              NaN                  NaN   \n",
            "4              NaN                  NaN   \n",
            "5              NaN                  NaN   \n",
            "6              NaN                  NaN   \n",
            "7              NaN                  NaN   \n",
            "8              NaN                  NaN   \n",
            "9              NaN                  NaN   \n",
            "\n",
            "                                              source  \n",
            "0  kpszsu/posts/pfbid0meYNAsX4voALE4SXunVpzKTwzrJ...  \n",
            "1  kpszsu/posts/pfbid0Rpzfu7u9ERu4o49Gm12eqSogKvZ...  \n",
            "2  kpszsu/posts/pfbid0Gvye9Wn2gj8RPiiGaTQFGRas9Yg...  \n",
            "3  kpszsu/posts/pfbid0Rpzfu7u9ERu4o49Gm12eqSogKvZ...  \n",
            "4  kpszsu/posts/pfbid0Gvye9Wn2gj8RPiiGaTQFGRas9Yg...  \n",
            "5  kpszsu/posts/pfbid0tPwzQHvvr63PbehDshED2WNV2vm...  \n",
            "6  kpszsu/posts/pfbid0kLxxfDQRTeUt5wQT5eahJVkW1fb...  \n",
            "7  kpszsu/posts/pfbid0kLxxfDQRTeUt5wQT5eahJVkW1fb...  \n",
            "8  kpszsu/posts/pfbid0kLxxfDQRTeUt5wQT5eahJVkW1fb...  \n",
            "9  kpszsu/posts/pfbid0kLxxfDQRTeUt5wQT5eahJVkW1fb...  \n"
          ]
        }
      ],
      "source": [
        "import pandas as pd\n",
        "\n",
        "file_path = \"missile_attacks_daily.csv\"\n",
        "data = pd.read_csv(file_path)\n",
        "print(\"Дані успішно завантажені:\")\n",
        "print(data)\n",
        "\n",
        "print(\"Перші 10 рядків даних:\")\n",
        "print(data.head(10))\n"
      ]
    },
    {
      "cell_type": "markdown",
      "metadata": {
        "id": "1PtkLHWj2lq0"
      },
      "source": [
        "14. Отримайте інформацію про форму датафрейму."
      ]
    },
    {
      "cell_type": "code",
      "execution_count": 4,
      "metadata": {
        "id": "CBPTYTjV2mtG"
      },
      "outputs": [
        {
          "name": "stdout",
          "output_type": "stream",
          "text": [
            "Форма датафрейму (рядки, стовпці):\n",
            "(2044, 16)\n"
          ]
        }
      ],
      "source": [
        "print(\"Форма датафрейму (рядки, стовпці):\")\n",
        "print(data.shape)\n"
      ]
    },
    {
      "cell_type": "markdown",
      "metadata": {
        "id": "GDVcFC6F2yVz"
      },
      "source": [
        "15. Отримайте дані про кожну колонку з її назвою, типом даних та кількістю непустих значень."
      ]
    },
    {
      "cell_type": "code",
      "execution_count": 5,
      "metadata": {
        "id": "GTRgfKJ920bn"
      },
      "outputs": [
        {
          "name": "stdout",
          "output_type": "stream",
          "text": [
            "Інформація про кожну колонку:\n",
            "<class 'pandas.core.frame.DataFrame'>\n",
            "RangeIndex: 2044 entries, 0 to 2043\n",
            "Data columns (total 16 columns):\n",
            " #   Column                Non-Null Count  Dtype  \n",
            "---  ------                --------------  -----  \n",
            " 0   time_start            2044 non-null   object \n",
            " 1   time_end              2044 non-null   object \n",
            " 2   model                 2044 non-null   object \n",
            " 3   launch_place          1023 non-null   object \n",
            " 4   target                2016 non-null   object \n",
            " 5   carrier               225 non-null    object \n",
            " 6   launched              2041 non-null   float64\n",
            " 7   destroyed             2044 non-null   int64  \n",
            " 8   not_reach_goal        157 non-null    float64\n",
            " 9   cross_border_belarus  32 non-null     float64\n",
            " 10  back_russia           34 non-null     float64\n",
            " 11  still_attacking       28 non-null     float64\n",
            " 12  destroyed_details     294 non-null    object \n",
            " 13  launched_details      4 non-null      object \n",
            " 14  launch_place_details  4 non-null      object \n",
            " 15  source                2044 non-null   object \n",
            "dtypes: float64(5), int64(1), object(10)\n",
            "memory usage: 255.6+ KB\n",
            "None\n"
          ]
        }
      ],
      "source": [
        "print(\"Інформація про кожну колонку:\")\n",
        "print(data.info())\n"
      ]
    },
    {
      "cell_type": "markdown",
      "metadata": {
        "id": "DEy-hgsw2452"
      },
      "source": [
        "16. Отримайте статистику для колонок числового типу."
      ]
    },
    {
      "cell_type": "code",
      "execution_count": 6,
      "metadata": {
        "id": "94mI2N9t267Q"
      },
      "outputs": [
        {
          "name": "stdout",
          "output_type": "stream",
          "text": [
            "Статистика для числових колонок:\n",
            "          launched    destroyed  not_reach_goal  cross_border_belarus  \\\n",
            "count  2041.000000  2044.000000      157.000000             32.000000   \n",
            "mean     10.609995     7.491683       20.828025              2.312500   \n",
            "std      21.041038    14.190972       19.877245              2.054696   \n",
            "min       1.000000     0.000000        1.000000              1.000000   \n",
            "25%       1.000000     1.000000        4.000000              1.000000   \n",
            "50%       2.000000     1.000000       16.000000              2.000000   \n",
            "75%       9.000000     7.000000       30.000000              2.000000   \n",
            "max     193.000000    99.000000      105.000000             10.000000   \n",
            "\n",
            "       back_russia  still_attacking  \n",
            "count    34.000000        28.000000  \n",
            "mean      2.000000         2.821429  \n",
            "std       1.154701         2.931989  \n",
            "min       1.000000         1.000000  \n",
            "25%       1.000000         1.000000  \n",
            "50%       2.000000         1.000000  \n",
            "75%       3.000000         4.000000  \n",
            "max       5.000000        10.000000  \n"
          ]
        }
      ],
      "source": [
        "print(\"Статистика для числових колонок:\")\n",
        "print(data.describe())\n"
      ]
    },
    {
      "cell_type": "markdown",
      "metadata": {
        "id": "n0MGJU2C2-iD"
      },
      "source": [
        "17. Отримати кількість унікальних значень у кожній колонці. Вивести на екран значення та кількість цих значень у колонці, яка має найменше унікальних значень."
      ]
    },
    {
      "cell_type": "code",
      "execution_count": 7,
      "metadata": {
        "id": "lQh_jdGe3BK5"
      },
      "outputs": [
        {
          "name": "stdout",
          "output_type": "stream",
          "text": [
            "Кількість унікальних значень у кожній колонці:\n",
            "time_start               864\n",
            "time_end                1015\n",
            "model                     61\n",
            "launch_place             135\n",
            "target                    97\n",
            "carrier                   58\n",
            "launched                 113\n",
            "destroyed                 81\n",
            "not_reach_goal            55\n",
            "cross_border_belarus       7\n",
            "back_russia                5\n",
            "still_attacking            8\n",
            "destroyed_details        290\n",
            "launched_details           4\n",
            "launch_place_details       4\n",
            "source                   960\n",
            "dtype: int64\n",
            "Колонка з найменшою кількістю унікальних значень: 'launched_details' (4 значень)\n"
          ]
        }
      ],
      "source": [
        "unique_values = data.nunique()\n",
        "print(\"Кількість унікальних значень у кожній колонці:\")\n",
        "print(unique_values)\n",
        "\n",
        "min_unique_column = unique_values.idxmin()\n",
        "min_unique_count = unique_values.min()\n",
        "print(f\"Колонка з найменшою кількістю унікальних значень: '{min_unique_column}' ({min_unique_count} значень)\")"
      ]
    },
    {
      "cell_type": "code",
      "execution_count": null,
      "metadata": {
        "id": "BlAeyE2q3tgd"
      },
      "outputs": [],
      "source": []
    },
    {
      "cell_type": "markdown",
      "metadata": {
        "id": "iVRkzUti3uC_"
      },
      "source": [
        "18. На основі отриманої інформації про датасет вище, опишіть по пунктах, що б ви виправили або на що б звернули увагу на кроці очищення даних і чому?"
      ]
    },
    {
      "cell_type": "markdown",
      "metadata": {
        "id": "9_Q-Fcuo30zY"
      },
      "source": [
        "**місце для текстової відповіді**\n",
        "\n",
        "1.   Перевірити наявність пропущених значень у колонках\n",
        "2.   Перевірити коректність типів даних у кожній колонці\n",
        "\n",
        "...\n"
      ]
    },
    {
      "cell_type": "markdown",
      "metadata": {
        "id": "Ue9ECz5-3_pq"
      },
      "source": [
        "# V. Data Cleaning"
      ]
    },
    {
      "cell_type": "markdown",
      "metadata": {
        "id": "ZtHUiSrV4CL-"
      },
      "source": [
        "19. Перетворити колонку launched у цілочислену (Int64). Перевірити, чи все пройшло, як очікувалось."
      ]
    },
    {
      "cell_type": "code",
      "execution_count": 8,
      "metadata": {
        "id": "AWyo_-Un3xqz"
      },
      "outputs": [
        {
          "name": "stdout",
          "output_type": "stream",
          "text": [
            "Колонка 'launched' успішно перетворена у тип Int64.\n",
            "Int64\n"
          ]
        }
      ],
      "source": [
        "if 'launched' in data.columns:\n",
        "    try:\n",
        "        data['launched'] = pd.to_numeric(data['launched'], errors='coerce').astype('Int64')\n",
        "        print(\"Колонка 'launched' успішно перетворена у тип Int64.\")\n",
        "    except Exception as e:\n",
        "        print(f\"Помилка під час перетворення: {e}\")\n",
        "else:\n",
        "    print(\"Колонка 'launched' відсутня у датасеті.\")\n",
        "\n",
        "print(data['launched'].dtypes)\n"
      ]
    },
    {
      "cell_type": "code",
      "execution_count": null,
      "metadata": {
        "id": "ys_OfWeQ4OjW"
      },
      "outputs": [],
      "source": []
    },
    {
      "cell_type": "markdown",
      "metadata": {
        "id": "KsHhM4EM4O3d"
      },
      "source": [
        "20. Видалити колонки, де кількість непустих значень становить менше 30% від загальної кількості записів."
      ]
    },
    {
      "cell_type": "code",
      "execution_count": 9,
      "metadata": {
        "id": "Z1ZCclle4Vyk"
      },
      "outputs": [
        {
          "name": "stdout",
          "output_type": "stream",
          "text": [
            "Колонки збережені після фільтрації:\n",
            "Index(['time_start', 'time_end', 'model', 'launch_place', 'target', 'launched',\n",
            "       'destroyed', 'source'],\n",
            "      dtype='object')\n",
            "Видалено колонок: 8\n"
          ]
        }
      ],
      "source": [
        "threshold = 0.3 \n",
        "min_non_nulls = len(data) * threshold\n",
        "filtered_data = data.dropna(thresh=min_non_nulls, axis=1)\n",
        "\n",
        "print(\"Колонки збережені після фільтрації:\")\n",
        "print(filtered_data.columns)\n",
        "\n",
        "removed_columns = set(data.columns) - set(filtered_data.columns)\n",
        "print(f\"Видалено колонок: {len(removed_columns)}\")\n"
      ]
    },
    {
      "cell_type": "code",
      "execution_count": null,
      "metadata": {
        "id": "MGrORLGe4XA2"
      },
      "outputs": [],
      "source": []
    },
    {
      "cell_type": "markdown",
      "metadata": {
        "id": "p8cD0M0U4cNT"
      },
      "source": [
        "21. Очистити датафрейм від дублікатів (дублюючихся рядків) та записів, де атака продовжувалась відʼємну або нульову кількість часу (що фізично неможливо). Не забудьте оновити індекс. Скільки рядків було видалено? Як ви це перевірили у коді?"
      ]
    },
    {
      "cell_type": "code",
      "execution_count": null,
      "metadata": {
        "id": "in3Fvn0I4l-I"
      },
      "outputs": [
        {
          "name": "stdout",
          "output_type": "stream",
          "text": [
            "Видалено рядків: 433\n"
          ]
        }
      ],
      "source": [
        "\n",
        "initial_rows = len(data)\n",
        "\n",
        "data_cleaned = data.drop_duplicates()\n",
        "\n",
        "column_to_filter = 'destroyed'\n",
        "if column_to_filter in data_cleaned.columns:\n",
        "    data_cleaned = data_cleaned[data_cleaned[column_to_filter] > 0]\n",
        "\n",
        "\n",
        "data_cleaned.reset_index(drop=True, inplace=True)\n",
        "\n",
        "removed_rows = initial_rows - len(data_cleaned)\n",
        "print(f\"Видалено рядків: {removed_rows}\")\n"
      ]
    },
    {
      "cell_type": "markdown",
      "metadata": {
        "id": "8zqL82Ie4nqY"
      },
      "source": [
        "**місце для текстової відповіді**"
      ]
    },
    {
      "cell_type": "code",
      "execution_count": null,
      "metadata": {
        "id": "GoHlOjXj4sIw"
      },
      "outputs": [],
      "source": [
        "було видалено 433 рядка, видалення рядків враховується завдяки порівнянню початкової кількості рядків із кінцевою кількістю рядків після виконання операцій очищення даних."
      ]
    },
    {
      "cell_type": "markdown",
      "metadata": {
        "id": "6oZ7C_ry4uvb"
      },
      "source": [
        "22. Виведіть на екран всі рядки, де є хоч одне пропущене значення."
      ]
    },
    {
      "cell_type": "code",
      "execution_count": 10,
      "metadata": {
        "id": "BPmCTDtg4wVS"
      },
      "outputs": [
        {
          "name": "stdout",
          "output_type": "stream",
          "text": [
            "Рядки з хоча б одним пропущеним значенням:\n",
            "            time_start          time_end               model  \\\n",
            "0     2025-01-18 20:00  2025-01-19 09:00      Shahed-136/131   \n",
            "1     2025-01-17 19:00  2025-01-18 08:00      Shahed-136/131   \n",
            "2     2025-01-16 19:00  2025-01-17 09:00      Shahed-136/131   \n",
            "3     2025-01-16 19:00  2025-01-17 09:00    Iskander-M/KN-23   \n",
            "4     2025-01-16 19:00  2025-01-17 09:00          Iskander-M   \n",
            "...                ...               ...                 ...   \n",
            "2039  2022-10-01 12:00  2022-10-01 12:00            Orlan-10   \n",
            "2040        2022-09-30        2022-09-30            Orlan-10   \n",
            "2041  2022-09-29 23:00  2022-09-29 23:59      Shahed-136/131   \n",
            "2042        2022-09-28        2022-09-28                X-59   \n",
            "2043        2022-09-28        2022-09-28  Reconnaissance UAV   \n",
            "\n",
            "                                           launch_place  \\\n",
            "0         Bryansk oblast and Oryol oblast and Millerovo   \n",
            "1     Primorsko-Akhtarsk and Bryansk oblast and Mill...   \n",
            "2     Primorsko-Akhtarsk and Kursk oblast and Bryans...   \n",
            "3                    Bryansk oblast and Voronezh oblast   \n",
            "4                                         Rostov oblast   \n",
            "...                                                 ...   \n",
            "2039                                                NaN   \n",
            "2040                                                NaN   \n",
            "2041                                                NaN   \n",
            "2042                                                NaN   \n",
            "2043                                                NaN   \n",
            "\n",
            "                                             target carrier  launched  \\\n",
            "0                                           Ukraine     NaN        61   \n",
            "1                                           Ukraine     NaN        39   \n",
            "2                                           Ukraine     NaN        50   \n",
            "3                                       Kyiv oblast     NaN         4   \n",
            "4                                           Ukraine     NaN         2   \n",
            "...                                             ...     ...       ...   \n",
            "2039                                        Ukraine     NaN         1   \n",
            "2040                                        Ukraine     NaN         3   \n",
            "2041               Odesa oblast and Mykolaiv oblast     NaN         7   \n",
            "2042  Dnipropetrovsk oblast and Zaporizhzhia oblast   Su-35         5   \n",
            "2043                                        Ukraine     NaN         3   \n",
            "\n",
            "      destroyed  not_reach_goal  cross_border_belarus  back_russia  \\\n",
            "0            43            15.0                   NaN          NaN   \n",
            "1            24            14.0                   NaN          NaN   \n",
            "2            33             9.0                   NaN          NaN   \n",
            "3             2             NaN                   NaN          NaN   \n",
            "4             0             NaN                   NaN          NaN   \n",
            "...         ...             ...                   ...          ...   \n",
            "2039          1             NaN                   NaN          NaN   \n",
            "2040          3             NaN                   NaN          NaN   \n",
            "2041          5             NaN                   NaN          NaN   \n",
            "2042          4             NaN                   NaN          NaN   \n",
            "2043          3             NaN                   NaN          NaN   \n",
            "\n",
            "      still_attacking                                  destroyed_details  \\\n",
            "0                 1.0  {'Mykolaiv oblast': NaN,    'Kyiv oblast': NaN...   \n",
            "1                 NaN  {'Kherson oblast': NaN, 'Khmelnytskyi oblast':...   \n",
            "2                 NaN  {'Odesa oblast and Mykolaiv oblast': 7, 'Khmel...   \n",
            "3                 NaN                                                NaN   \n",
            "4                 NaN                                                NaN   \n",
            "...               ...                                                ...   \n",
            "2039              NaN                                                NaN   \n",
            "2040              NaN                                                NaN   \n",
            "2041              NaN                                                NaN   \n",
            "2042              NaN                                                NaN   \n",
            "2043              NaN                                                NaN   \n",
            "\n",
            "     launched_details launch_place_details  \\\n",
            "0                 NaN                  NaN   \n",
            "1                 NaN                  NaN   \n",
            "2                 NaN                  NaN   \n",
            "3                 NaN                  NaN   \n",
            "4                 NaN                  NaN   \n",
            "...               ...                  ...   \n",
            "2039              NaN                  NaN   \n",
            "2040              NaN                  NaN   \n",
            "2041              NaN                  NaN   \n",
            "2042              NaN                  NaN   \n",
            "2043              NaN                  NaN   \n",
            "\n",
            "                                                 source  \n",
            "0     kpszsu/posts/pfbid0meYNAsX4voALE4SXunVpzKTwzrJ...  \n",
            "1     kpszsu/posts/pfbid0Rpzfu7u9ERu4o49Gm12eqSogKvZ...  \n",
            "2     kpszsu/posts/pfbid0Gvye9Wn2gj8RPiiGaTQFGRas9Yg...  \n",
            "3     kpszsu/posts/pfbid0Rpzfu7u9ERu4o49Gm12eqSogKvZ...  \n",
            "4     kpszsu/posts/pfbid0Gvye9Wn2gj8RPiiGaTQFGRas9Yg...  \n",
            "...                                                 ...  \n",
            "2039                           watch/?v=375517448001233  \n",
            "2040  kpszsu/posts/pfbid0nELeXY4BpHrezv54Lk3gWPZJmcC...  \n",
            "2041  kpszsu/posts/pfbid021aK2TqryAuB8gGrDYMTv3R8Xiu...  \n",
            "2042  kpszsu/posts/pfbid02sjn5m7kosAfsm5bSUzpPwbLuH3...  \n",
            "2043  kpszsu/posts/pfbid0grmBx6A5LbQ7PVTkSx7jTDgg4iU...  \n",
            "\n",
            "[2044 rows x 16 columns]\n",
            "Кількість рядків з пропущеними значеннями: 2044\n"
          ]
        }
      ],
      "source": [
        "rows_with_na = data[data.isnull().any(axis=1)]\n",
        "print(\"Рядки з хоча б одним пропущеним значенням:\")\n",
        "print(rows_with_na)\n",
        "\n",
        "print(f\"Кількість рядків з пропущеними значеннями: {len(rows_with_na)}\")\n"
      ]
    }
  ],
  "metadata": {
    "colab": {
      "collapsed_sections": [
        "dwSyU2AjXwc-"
      ],
      "provenance": []
    },
    "kernelspec": {
      "display_name": "Python 3",
      "name": "python3"
    },
    "language_info": {
      "codemirror_mode": {
        "name": "ipython",
        "version": 3
      },
      "file_extension": ".py",
      "mimetype": "text/x-python",
      "name": "python",
      "nbconvert_exporter": "python",
      "pygments_lexer": "ipython3",
      "version": "3.13.1"
    }
  },
  "nbformat": 4,
  "nbformat_minor": 0
}
